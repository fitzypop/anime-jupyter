{
 "cells": [
  {
   "source": [
    "import pandas as pd\n",
    "\n",
    "# Let's see what we're working with here\n",
    "df = pd.read_csv('data/anime_cleaned.csv')\n",
    "df.columns"
   ],
   "cell_type": "code",
   "metadata": {},
   "execution_count": 2,
   "outputs": [
    {
     "output_type": "execute_result",
     "data": {
      "text/plain": [
       "Index(['anime_id', 'title', 'title_english', 'title_japanese',\n",
       "       'title_synonyms', 'image_url', 'type', 'source', 'episodes', 'status',\n",
       "       'airing', 'aired_string', 'aired', 'duration', 'rating', 'score',\n",
       "       'scored_by', 'rank', 'popularity', 'members', 'favorites', 'background',\n",
       "       'premiered', 'broadcast', 'related', 'producer', 'licensor', 'studio',\n",
       "       'genre', 'opening_theme', 'ending_theme', 'duration_min',\n",
       "       'aired_from_year'],\n",
       "      dtype='object')"
      ]
     },
     "metadata": {},
     "execution_count": 2
    }
   ]
  },
  {
   "cell_type": "code",
   "execution_count": 3,
   "metadata": {},
   "outputs": [
    {
     "output_type": "execute_result",
     "data": {
      "text/plain": [
       "                                                  title  \\\n",
       "0                                         Inu x Boku SS   \n",
       "1                                      Seto no Hanayome   \n",
       "2                                    Shugo Chara!! Doki   \n",
       "3                                         Princess Tutu   \n",
       "4                                   Bakuman. 3rd Season   \n",
       "...                                                 ...   \n",
       "6663                            Dokidoki Little Ooyasan   \n",
       "6664                        Wo Shi Jiang Xiaobai (2018)   \n",
       "6665              Genki Genki Non-tan: Obake Mura Meiro   \n",
       "6666                                Mr. Men Little Miss   \n",
       "6667  Mushi Mushi Mura no Nakama-tachi: Minna Ii Tok...   \n",
       "\n",
       "                  title_english                     rating  score  popularity  \\\n",
       "0     Inu X Boku Secret Service  PG-13 - Teens 13 or older   7.63         231   \n",
       "1         My Bride is a Mermaid  PG-13 - Teens 13 or older   7.89         366   \n",
       "2            Shugo Chara!! Doki              PG - Children   7.55        1173   \n",
       "3                 Princess Tutu  PG-13 - Teens 13 or older   8.21         916   \n",
       "4                      Bakuman.  PG-13 - Teens 13 or older   8.67         426   \n",
       "...                         ...                        ...    ...         ...   \n",
       "6663                        NaN                Rx - Hentai   9.52       10273   \n",
       "6664         I&#039;m Joybo OVA  PG-13 - Teens 13 or older   0.00       10168   \n",
       "6665                        NaN               G - All Ages   4.20       14257   \n",
       "6666        Mr. Men Little Miss               G - All Ages   4.57       14066   \n",
       "6667                        NaN               G - All Ages   7.00       14191   \n",
       "\n",
       "                                         genre  \n",
       "0       Comedy, Supernatural, Romance, Shounen  \n",
       "1     Comedy, Parody, Romance, School, Shounen  \n",
       "2                Comedy, Magic, School, Shoujo  \n",
       "3       Comedy, Drama, Magic, Romance, Fantasy  \n",
       "4              Comedy, Drama, Romance, Shounen  \n",
       "...                                        ...  \n",
       "6663                                    Hentai  \n",
       "6664             Slice of Life, Drama, Romance  \n",
       "6665                               Music, Kids  \n",
       "6666                                      Kids  \n",
       "6667                                      Kids  \n",
       "\n",
       "[6668 rows x 6 columns]"
      ],
      "text/html": "<div>\n<style scoped>\n    .dataframe tbody tr th:only-of-type {\n        vertical-align: middle;\n    }\n\n    .dataframe tbody tr th {\n        vertical-align: top;\n    }\n\n    .dataframe thead th {\n        text-align: right;\n    }\n</style>\n<table border=\"1\" class=\"dataframe\">\n  <thead>\n    <tr style=\"text-align: right;\">\n      <th></th>\n      <th>title</th>\n      <th>title_english</th>\n      <th>rating</th>\n      <th>score</th>\n      <th>popularity</th>\n      <th>genre</th>\n    </tr>\n  </thead>\n  <tbody>\n    <tr>\n      <th>0</th>\n      <td>Inu x Boku SS</td>\n      <td>Inu X Boku Secret Service</td>\n      <td>PG-13 - Teens 13 or older</td>\n      <td>7.63</td>\n      <td>231</td>\n      <td>Comedy, Supernatural, Romance, Shounen</td>\n    </tr>\n    <tr>\n      <th>1</th>\n      <td>Seto no Hanayome</td>\n      <td>My Bride is a Mermaid</td>\n      <td>PG-13 - Teens 13 or older</td>\n      <td>7.89</td>\n      <td>366</td>\n      <td>Comedy, Parody, Romance, School, Shounen</td>\n    </tr>\n    <tr>\n      <th>2</th>\n      <td>Shugo Chara!! Doki</td>\n      <td>Shugo Chara!! Doki</td>\n      <td>PG - Children</td>\n      <td>7.55</td>\n      <td>1173</td>\n      <td>Comedy, Magic, School, Shoujo</td>\n    </tr>\n    <tr>\n      <th>3</th>\n      <td>Princess Tutu</td>\n      <td>Princess Tutu</td>\n      <td>PG-13 - Teens 13 or older</td>\n      <td>8.21</td>\n      <td>916</td>\n      <td>Comedy, Drama, Magic, Romance, Fantasy</td>\n    </tr>\n    <tr>\n      <th>4</th>\n      <td>Bakuman. 3rd Season</td>\n      <td>Bakuman.</td>\n      <td>PG-13 - Teens 13 or older</td>\n      <td>8.67</td>\n      <td>426</td>\n      <td>Comedy, Drama, Romance, Shounen</td>\n    </tr>\n    <tr>\n      <th>...</th>\n      <td>...</td>\n      <td>...</td>\n      <td>...</td>\n      <td>...</td>\n      <td>...</td>\n      <td>...</td>\n    </tr>\n    <tr>\n      <th>6663</th>\n      <td>Dokidoki Little Ooyasan</td>\n      <td>NaN</td>\n      <td>Rx - Hentai</td>\n      <td>9.52</td>\n      <td>10273</td>\n      <td>Hentai</td>\n    </tr>\n    <tr>\n      <th>6664</th>\n      <td>Wo Shi Jiang Xiaobai (2018)</td>\n      <td>I&amp;#039;m Joybo OVA</td>\n      <td>PG-13 - Teens 13 or older</td>\n      <td>0.00</td>\n      <td>10168</td>\n      <td>Slice of Life, Drama, Romance</td>\n    </tr>\n    <tr>\n      <th>6665</th>\n      <td>Genki Genki Non-tan: Obake Mura Meiro</td>\n      <td>NaN</td>\n      <td>G - All Ages</td>\n      <td>4.20</td>\n      <td>14257</td>\n      <td>Music, Kids</td>\n    </tr>\n    <tr>\n      <th>6666</th>\n      <td>Mr. Men Little Miss</td>\n      <td>Mr. Men Little Miss</td>\n      <td>G - All Ages</td>\n      <td>4.57</td>\n      <td>14066</td>\n      <td>Kids</td>\n    </tr>\n    <tr>\n      <th>6667</th>\n      <td>Mushi Mushi Mura no Nakama-tachi: Minna Ii Tok...</td>\n      <td>NaN</td>\n      <td>G - All Ages</td>\n      <td>7.00</td>\n      <td>14191</td>\n      <td>Kids</td>\n    </tr>\n  </tbody>\n</table>\n<p>6668 rows × 6 columns</p>\n</div>"
     },
     "metadata": {},
     "execution_count": 3
    }
   ],
   "source": [
    "df[['title', 'title_english', 'rating', 'score', 'popularity', 'genre']].sort_values('popularity')"
   ]
  },
  {
   "cell_type": "code",
   "execution_count": null,
   "metadata": {},
   "outputs": [],
   "source": [
    "# Let's see what the most popular animes are\n",
    "df"
   ]
  }
 ],
 "metadata": {
  "kernelspec": {
   "name": "python386jvsc74a57bd049c31735898bcc7a7f9475ec39f9101bc3fe8f729d94da83e0f39c0054a8cb73",
   "display_name": "Python 3.9.5 64-bit ('anime_python-NngzkPi4': pipenv)"
  }
 },
 "nbformat": 4,
 "nbformat_minor": 5
}