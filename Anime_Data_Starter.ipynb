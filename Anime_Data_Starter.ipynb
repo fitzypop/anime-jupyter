{
 "cells": [
  {
   "source": [
    "import pandas as pd\n",
    "\n",
    "# Let's see what we're working with here\n",
    "df = pd.read_csv('data/AnimeList.csv')\n",
    "df.columns"
   ],
   "cell_type": "code",
   "metadata": {},
   "execution_count": 1,
   "outputs": [
    {
     "output_type": "execute_result",
     "data": {
      "text/plain": [
       "Index(['anime_id', 'title', 'title_english', 'title_japanese',\n",
       "       'title_synonyms', 'image_url', 'type', 'source', 'episodes', 'status',\n",
       "       'airing', 'aired_string', 'aired', 'duration', 'rating', 'score',\n",
       "       'scored_by', 'rank', 'popularity', 'members', 'favorites', 'background',\n",
       "       'premiered', 'broadcast', 'related', 'producer', 'licensor', 'studio',\n",
       "       'genre', 'opening_theme', 'ending_theme'],\n",
       "      dtype='object')"
      ]
     },
     "metadata": {},
     "execution_count": 1
    }
   ]
  },
  {
   "cell_type": "code",
   "execution_count": 2,
   "metadata": {},
   "outputs": [
    {
     "output_type": "execute_result",
     "data": {
      "text/plain": [
       "                                       title              title_english  \\\n",
       "0                              Inu x Boku SS  Inu X Boku Secret Service   \n",
       "1                           Seto no Hanayome      My Bride is a Mermaid   \n",
       "2                         Shugo Chara!! Doki         Shugo Chara!! Doki   \n",
       "3                              Princess Tutu              Princess Tutu   \n",
       "4                        Bakuman. 3rd Season                   Bakuman.   \n",
       "...                                      ...                        ...   \n",
       "14473             Gutchonpa Omoshiro Hanashi                        NaN   \n",
       "14474                   Geba Geba Shou Time!                        NaN   \n",
       "14475            Godzilla: Hoshi wo Kuu Mono                        NaN   \n",
       "14476  Nippon Mukashibanashi: Sannen Netarou                        NaN   \n",
       "14477             Senjou no Valkyria Special                        NaN   \n",
       "\n",
       "       score  popularity                                     genre  \n",
       "0       7.63         231    Comedy, Supernatural, Romance, Shounen  \n",
       "1       7.89         366  Comedy, Parody, Romance, School, Shounen  \n",
       "2       7.55        1173             Comedy, Magic, School, Shoujo  \n",
       "3       8.21         916    Comedy, Drama, Magic, Romance, Fantasy  \n",
       "4       8.67         426           Comedy, Drama, Romance, Shounen  \n",
       "...      ...         ...                                       ...  \n",
       "14473   5.50       13598                                      Kids  \n",
       "14474   4.60       13284                                    Comedy  \n",
       "14475   0.00        7226        Action, Sci-Fi, Adventure, Fantasy  \n",
       "14476   6.00       14334                             Fantasy, Kids  \n",
       "14477   5.15        9767                                    Comedy  \n",
       "\n",
       "[14478 rows x 5 columns]"
      ],
      "text/html": "<div>\n<style scoped>\n    .dataframe tbody tr th:only-of-type {\n        vertical-align: middle;\n    }\n\n    .dataframe tbody tr th {\n        vertical-align: top;\n    }\n\n    .dataframe thead th {\n        text-align: right;\n    }\n</style>\n<table border=\"1\" class=\"dataframe\">\n  <thead>\n    <tr style=\"text-align: right;\">\n      <th></th>\n      <th>title</th>\n      <th>title_english</th>\n      <th>score</th>\n      <th>popularity</th>\n      <th>genre</th>\n    </tr>\n  </thead>\n  <tbody>\n    <tr>\n      <th>0</th>\n      <td>Inu x Boku SS</td>\n      <td>Inu X Boku Secret Service</td>\n      <td>7.63</td>\n      <td>231</td>\n      <td>Comedy, Supernatural, Romance, Shounen</td>\n    </tr>\n    <tr>\n      <th>1</th>\n      <td>Seto no Hanayome</td>\n      <td>My Bride is a Mermaid</td>\n      <td>7.89</td>\n      <td>366</td>\n      <td>Comedy, Parody, Romance, School, Shounen</td>\n    </tr>\n    <tr>\n      <th>2</th>\n      <td>Shugo Chara!! Doki</td>\n      <td>Shugo Chara!! Doki</td>\n      <td>7.55</td>\n      <td>1173</td>\n      <td>Comedy, Magic, School, Shoujo</td>\n    </tr>\n    <tr>\n      <th>3</th>\n      <td>Princess Tutu</td>\n      <td>Princess Tutu</td>\n      <td>8.21</td>\n      <td>916</td>\n      <td>Comedy, Drama, Magic, Romance, Fantasy</td>\n    </tr>\n    <tr>\n      <th>4</th>\n      <td>Bakuman. 3rd Season</td>\n      <td>Bakuman.</td>\n      <td>8.67</td>\n      <td>426</td>\n      <td>Comedy, Drama, Romance, Shounen</td>\n    </tr>\n    <tr>\n      <th>...</th>\n      <td>...</td>\n      <td>...</td>\n      <td>...</td>\n      <td>...</td>\n      <td>...</td>\n    </tr>\n    <tr>\n      <th>14473</th>\n      <td>Gutchonpa Omoshiro Hanashi</td>\n      <td>NaN</td>\n      <td>5.50</td>\n      <td>13598</td>\n      <td>Kids</td>\n    </tr>\n    <tr>\n      <th>14474</th>\n      <td>Geba Geba Shou Time!</td>\n      <td>NaN</td>\n      <td>4.60</td>\n      <td>13284</td>\n      <td>Comedy</td>\n    </tr>\n    <tr>\n      <th>14475</th>\n      <td>Godzilla: Hoshi wo Kuu Mono</td>\n      <td>NaN</td>\n      <td>0.00</td>\n      <td>7226</td>\n      <td>Action, Sci-Fi, Adventure, Fantasy</td>\n    </tr>\n    <tr>\n      <th>14476</th>\n      <td>Nippon Mukashibanashi: Sannen Netarou</td>\n      <td>NaN</td>\n      <td>6.00</td>\n      <td>14334</td>\n      <td>Fantasy, Kids</td>\n    </tr>\n    <tr>\n      <th>14477</th>\n      <td>Senjou no Valkyria Special</td>\n      <td>NaN</td>\n      <td>5.15</td>\n      <td>9767</td>\n      <td>Comedy</td>\n    </tr>\n  </tbody>\n</table>\n<p>14478 rows × 5 columns</p>\n</div>"
     },
     "metadata": {},
     "execution_count": 2
    }
   ],
   "source": [
    "# Looks like there's a bunch of data that I don't need\n",
    "# Let's filter the columns down to ones I care about\n",
    "columns = ['title', 'title_english', 'score', 'popularity', 'genre']\n",
    "anime = df[columns]\n",
    "anime"
   ]
  },
  {
   "cell_type": "code",
   "execution_count": 3,
   "metadata": {},
   "outputs": [
    {
     "output_type": "error",
     "ename": "KeyError",
     "evalue": "'rank'",
     "traceback": [
      "\u001b[0;31m---------------------------------------------------------------------------\u001b[0m",
      "\u001b[0;31mKeyError\u001b[0m                                  Traceback (most recent call last)",
      "\u001b[0;32m~/.local/share/virtualenvs/anime_python-NngzkPi4/lib/python3.8/site-packages/pandas/core/indexes/base.py\u001b[0m in \u001b[0;36mget_loc\u001b[0;34m(self, key, method, tolerance)\u001b[0m\n\u001b[1;32m   3079\u001b[0m             \u001b[0;32mtry\u001b[0m\u001b[0;34m:\u001b[0m\u001b[0;34m\u001b[0m\u001b[0;34m\u001b[0m\u001b[0m\n\u001b[0;32m-> 3080\u001b[0;31m                 \u001b[0;32mreturn\u001b[0m \u001b[0mself\u001b[0m\u001b[0;34m.\u001b[0m\u001b[0m_engine\u001b[0m\u001b[0;34m.\u001b[0m\u001b[0mget_loc\u001b[0m\u001b[0;34m(\u001b[0m\u001b[0mcasted_key\u001b[0m\u001b[0;34m)\u001b[0m\u001b[0;34m\u001b[0m\u001b[0;34m\u001b[0m\u001b[0m\n\u001b[0m\u001b[1;32m   3081\u001b[0m             \u001b[0;32mexcept\u001b[0m \u001b[0mKeyError\u001b[0m \u001b[0;32mas\u001b[0m \u001b[0merr\u001b[0m\u001b[0;34m:\u001b[0m\u001b[0;34m\u001b[0m\u001b[0;34m\u001b[0m\u001b[0m\n",
      "\u001b[0;32mpandas/_libs/index.pyx\u001b[0m in \u001b[0;36mpandas._libs.index.IndexEngine.get_loc\u001b[0;34m()\u001b[0m\n",
      "\u001b[0;32mpandas/_libs/index.pyx\u001b[0m in \u001b[0;36mpandas._libs.index.IndexEngine.get_loc\u001b[0;34m()\u001b[0m\n",
      "\u001b[0;32mpandas/_libs/hashtable_class_helper.pxi\u001b[0m in \u001b[0;36mpandas._libs.hashtable.PyObjectHashTable.get_item\u001b[0;34m()\u001b[0m\n",
      "\u001b[0;32mpandas/_libs/hashtable_class_helper.pxi\u001b[0m in \u001b[0;36mpandas._libs.hashtable.PyObjectHashTable.get_item\u001b[0;34m()\u001b[0m\n",
      "\u001b[0;31mKeyError\u001b[0m: 'rank'",
      "\nThe above exception was the direct cause of the following exception:\n",
      "\u001b[0;31mKeyError\u001b[0m                                  Traceback (most recent call last)",
      "\u001b[0;32m<ipython-input-3-82b7e74b92b8>\u001b[0m in \u001b[0;36m<module>\u001b[0;34m\u001b[0m\n\u001b[1;32m      1\u001b[0m \u001b[0;31m# remove unhelp values\u001b[0m\u001b[0;34m\u001b[0m\u001b[0;34m\u001b[0m\u001b[0;34m\u001b[0m\u001b[0m\n\u001b[1;32m      2\u001b[0m \u001b[0manime\u001b[0m \u001b[0;34m=\u001b[0m \u001b[0manime\u001b[0m\u001b[0;34m[\u001b[0m\u001b[0manime\u001b[0m\u001b[0;34m[\u001b[0m\u001b[0;34m'popularity'\u001b[0m\u001b[0;34m]\u001b[0m \u001b[0;34m!=\u001b[0m \u001b[0;36m0\u001b[0m\u001b[0;34m]\u001b[0m\u001b[0;34m\u001b[0m\u001b[0;34m\u001b[0m\u001b[0m\n\u001b[0;32m----> 3\u001b[0;31m \u001b[0manime\u001b[0m \u001b[0;34m=\u001b[0m \u001b[0manime\u001b[0m\u001b[0;34m[\u001b[0m\u001b[0manime\u001b[0m\u001b[0;34m[\u001b[0m\u001b[0;34m'rank'\u001b[0m\u001b[0;34m]\u001b[0m \u001b[0;34m!=\u001b[0m \u001b[0;36m0\u001b[0m\u001b[0;34m]\u001b[0m\u001b[0;34m\u001b[0m\u001b[0;34m\u001b[0m\u001b[0m\n\u001b[0m\u001b[1;32m      4\u001b[0m \u001b[0manime\u001b[0m\u001b[0;34m\u001b[0m\u001b[0;34m\u001b[0m\u001b[0m\n",
      "\u001b[0;32m~/.local/share/virtualenvs/anime_python-NngzkPi4/lib/python3.8/site-packages/pandas/core/frame.py\u001b[0m in \u001b[0;36m__getitem__\u001b[0;34m(self, key)\u001b[0m\n\u001b[1;32m   3022\u001b[0m             \u001b[0;32mif\u001b[0m \u001b[0mself\u001b[0m\u001b[0;34m.\u001b[0m\u001b[0mcolumns\u001b[0m\u001b[0;34m.\u001b[0m\u001b[0mnlevels\u001b[0m \u001b[0;34m>\u001b[0m \u001b[0;36m1\u001b[0m\u001b[0;34m:\u001b[0m\u001b[0;34m\u001b[0m\u001b[0;34m\u001b[0m\u001b[0m\n\u001b[1;32m   3023\u001b[0m                 \u001b[0;32mreturn\u001b[0m \u001b[0mself\u001b[0m\u001b[0;34m.\u001b[0m\u001b[0m_getitem_multilevel\u001b[0m\u001b[0;34m(\u001b[0m\u001b[0mkey\u001b[0m\u001b[0;34m)\u001b[0m\u001b[0;34m\u001b[0m\u001b[0;34m\u001b[0m\u001b[0m\n\u001b[0;32m-> 3024\u001b[0;31m             \u001b[0mindexer\u001b[0m \u001b[0;34m=\u001b[0m \u001b[0mself\u001b[0m\u001b[0;34m.\u001b[0m\u001b[0mcolumns\u001b[0m\u001b[0;34m.\u001b[0m\u001b[0mget_loc\u001b[0m\u001b[0;34m(\u001b[0m\u001b[0mkey\u001b[0m\u001b[0;34m)\u001b[0m\u001b[0;34m\u001b[0m\u001b[0;34m\u001b[0m\u001b[0m\n\u001b[0m\u001b[1;32m   3025\u001b[0m             \u001b[0;32mif\u001b[0m \u001b[0mis_integer\u001b[0m\u001b[0;34m(\u001b[0m\u001b[0mindexer\u001b[0m\u001b[0;34m)\u001b[0m\u001b[0;34m:\u001b[0m\u001b[0;34m\u001b[0m\u001b[0;34m\u001b[0m\u001b[0m\n\u001b[1;32m   3026\u001b[0m                 \u001b[0mindexer\u001b[0m \u001b[0;34m=\u001b[0m \u001b[0;34m[\u001b[0m\u001b[0mindexer\u001b[0m\u001b[0;34m]\u001b[0m\u001b[0;34m\u001b[0m\u001b[0;34m\u001b[0m\u001b[0m\n",
      "\u001b[0;32m~/.local/share/virtualenvs/anime_python-NngzkPi4/lib/python3.8/site-packages/pandas/core/indexes/base.py\u001b[0m in \u001b[0;36mget_loc\u001b[0;34m(self, key, method, tolerance)\u001b[0m\n\u001b[1;32m   3080\u001b[0m                 \u001b[0;32mreturn\u001b[0m \u001b[0mself\u001b[0m\u001b[0;34m.\u001b[0m\u001b[0m_engine\u001b[0m\u001b[0;34m.\u001b[0m\u001b[0mget_loc\u001b[0m\u001b[0;34m(\u001b[0m\u001b[0mcasted_key\u001b[0m\u001b[0;34m)\u001b[0m\u001b[0;34m\u001b[0m\u001b[0;34m\u001b[0m\u001b[0m\n\u001b[1;32m   3081\u001b[0m             \u001b[0;32mexcept\u001b[0m \u001b[0mKeyError\u001b[0m \u001b[0;32mas\u001b[0m \u001b[0merr\u001b[0m\u001b[0;34m:\u001b[0m\u001b[0;34m\u001b[0m\u001b[0;34m\u001b[0m\u001b[0m\n\u001b[0;32m-> 3082\u001b[0;31m                 \u001b[0;32mraise\u001b[0m \u001b[0mKeyError\u001b[0m\u001b[0;34m(\u001b[0m\u001b[0mkey\u001b[0m\u001b[0;34m)\u001b[0m \u001b[0;32mfrom\u001b[0m \u001b[0merr\u001b[0m\u001b[0;34m\u001b[0m\u001b[0;34m\u001b[0m\u001b[0m\n\u001b[0m\u001b[1;32m   3083\u001b[0m \u001b[0;34m\u001b[0m\u001b[0m\n\u001b[1;32m   3084\u001b[0m         \u001b[0;32mif\u001b[0m \u001b[0mtolerance\u001b[0m \u001b[0;32mis\u001b[0m \u001b[0;32mnot\u001b[0m \u001b[0;32mNone\u001b[0m\u001b[0;34m:\u001b[0m\u001b[0;34m\u001b[0m\u001b[0;34m\u001b[0m\u001b[0m\n",
      "\u001b[0;31mKeyError\u001b[0m: 'rank'"
     ]
    }
   ],
   "source": [
    "# remove unhelp values\n",
    "anime = anime[anime['popularity'] != 0]\n",
    "anime"
   ]
  },
  {
   "cell_type": "code",
   "execution_count": 4,
   "metadata": {},
   "outputs": [
    {
     "output_type": "execute_result",
     "data": {
      "text/plain": [
       "                                  title                         title_english  \\\n",
       "7913                         Death Note                            Death Note   \n",
       "8123                 Shingeki no Kyojin                       Attack on Titan   \n",
       "6296                   Sword Art Online                      Sword Art Online   \n",
       "2555   Fullmetal Alchemist: Brotherhood      Fullmetal Alchemist: Brotherhood   \n",
       "8863                      One Punch Man                         One Punch Man   \n",
       "1235                        Tokyo Ghoul                           Tokyo Ghoul   \n",
       "13606                      Angel Beats!                          Angel Beats!   \n",
       "2999                        Steins;Gate                           Steins;Gate   \n",
       "13726   Code Geass: Hangyaku no Lelouch  Code Geass: Lelouch of the Rebellion   \n",
       "4504                             Naruto                                Naruto   \n",
       "6487                    No Game No Life                      No Game, No Life   \n",
       "9176                   Mirai Nikki (TV)                      The Future Diary   \n",
       "19                            Toradora!                             Toradora!   \n",
       "5437                     Ao no Exorcist                         Blue Exorcist   \n",
       "6323                           Noragami                   Noragami: Stray God   \n",
       "8736                         Elfen Lied                            Elfen Lied   \n",
       "5230                Sword Art Online II                   Sword Art Online II   \n",
       "14                               Bleach                                Bleach   \n",
       "191                          Fairy Tail                            Fairy Tail   \n",
       "17                   Naruto: Shippuuden                     Naruto: Shippuden   \n",
       "\n",
       "       score  popularity    rank  \\\n",
       "7913    8.67           1    51.0   \n",
       "8123    8.49           2   110.0   \n",
       "6296    7.64           3  1259.0   \n",
       "2555    9.25           4     1.0   \n",
       "8863    8.73           5    44.0   \n",
       "1235    8.00           6   560.0   \n",
       "13606   8.31           7   227.0   \n",
       "2999    9.14           8     5.0   \n",
       "13726   8.79           9    30.0   \n",
       "4504    7.88          10   745.0   \n",
       "6487    8.41          11   162.0   \n",
       "9176    7.89          12   721.0   \n",
       "19      8.39          13   174.0   \n",
       "5437    7.83          14   823.0   \n",
       "6323    8.15          15   377.0   \n",
       "8736    7.75          16   982.0   \n",
       "5230    7.20          17  2827.0   \n",
       "14      7.90          18   693.0   \n",
       "191     8.08          19   452.0   \n",
       "17      8.18          20   337.0   \n",
       "\n",
       "                                                   genre  \n",
       "7913   Mystery, Police, Psychological, Supernatural, ...  \n",
       "8123   Action, Military, Mystery, Super Power, Drama,...  \n",
       "6296           Action, Adventure, Fantasy, Game, Romance  \n",
       "2555   Action, Military, Adventure, Comedy, Drama, Ma...  \n",
       "8863   Action, Sci-Fi, Comedy, Parody, Super Power, S...  \n",
       "1235   Action, Mystery, Horror, Psychological, Supern...  \n",
       "13606        Action, Comedy, Drama, School, Supernatural  \n",
       "2999                                    Thriller, Sci-Fi  \n",
       "13726  Action, Military, Sci-Fi, Super Power, Drama, ...  \n",
       "4504   Action, Adventure, Comedy, Super Power, Martia...  \n",
       "6487   Game, Adventure, Comedy, Supernatural, Ecchi, ...  \n",
       "9176   Action, Psychological, Supernatural, Thriller,...  \n",
       "19                Slice of Life, Comedy, Romance, School  \n",
       "5437      Action, Demons, Fantasy, Shounen, Supernatural  \n",
       "6323    Action, Adventure, Comedy, Supernatural, Shounen  \n",
       "8736   Action, Horror, Psychological, Supernatural, D...  \n",
       "5230           Action, Game, Adventure, Romance, Fantasy  \n",
       "14     Action, Adventure, Comedy, Super Power, Supern...  \n",
       "191    Action, Adventure, Comedy, Magic, Fantasy, Sho...  \n",
       "17     Action, Adventure, Comedy, Super Power, Martia...  "
      ],
      "text/html": "<div>\n<style scoped>\n    .dataframe tbody tr th:only-of-type {\n        vertical-align: middle;\n    }\n\n    .dataframe tbody tr th {\n        vertical-align: top;\n    }\n\n    .dataframe thead th {\n        text-align: right;\n    }\n</style>\n<table border=\"1\" class=\"dataframe\">\n  <thead>\n    <tr style=\"text-align: right;\">\n      <th></th>\n      <th>title</th>\n      <th>title_english</th>\n      <th>score</th>\n      <th>popularity</th>\n      <th>rank</th>\n      <th>genre</th>\n    </tr>\n  </thead>\n  <tbody>\n    <tr>\n      <th>7913</th>\n      <td>Death Note</td>\n      <td>Death Note</td>\n      <td>8.67</td>\n      <td>1</td>\n      <td>51.0</td>\n      <td>Mystery, Police, Psychological, Supernatural, ...</td>\n    </tr>\n    <tr>\n      <th>8123</th>\n      <td>Shingeki no Kyojin</td>\n      <td>Attack on Titan</td>\n      <td>8.49</td>\n      <td>2</td>\n      <td>110.0</td>\n      <td>Action, Military, Mystery, Super Power, Drama,...</td>\n    </tr>\n    <tr>\n      <th>6296</th>\n      <td>Sword Art Online</td>\n      <td>Sword Art Online</td>\n      <td>7.64</td>\n      <td>3</td>\n      <td>1259.0</td>\n      <td>Action, Adventure, Fantasy, Game, Romance</td>\n    </tr>\n    <tr>\n      <th>2555</th>\n      <td>Fullmetal Alchemist: Brotherhood</td>\n      <td>Fullmetal Alchemist: Brotherhood</td>\n      <td>9.25</td>\n      <td>4</td>\n      <td>1.0</td>\n      <td>Action, Military, Adventure, Comedy, Drama, Ma...</td>\n    </tr>\n    <tr>\n      <th>8863</th>\n      <td>One Punch Man</td>\n      <td>One Punch Man</td>\n      <td>8.73</td>\n      <td>5</td>\n      <td>44.0</td>\n      <td>Action, Sci-Fi, Comedy, Parody, Super Power, S...</td>\n    </tr>\n    <tr>\n      <th>1235</th>\n      <td>Tokyo Ghoul</td>\n      <td>Tokyo Ghoul</td>\n      <td>8.00</td>\n      <td>6</td>\n      <td>560.0</td>\n      <td>Action, Mystery, Horror, Psychological, Supern...</td>\n    </tr>\n    <tr>\n      <th>13606</th>\n      <td>Angel Beats!</td>\n      <td>Angel Beats!</td>\n      <td>8.31</td>\n      <td>7</td>\n      <td>227.0</td>\n      <td>Action, Comedy, Drama, School, Supernatural</td>\n    </tr>\n    <tr>\n      <th>2999</th>\n      <td>Steins;Gate</td>\n      <td>Steins;Gate</td>\n      <td>9.14</td>\n      <td>8</td>\n      <td>5.0</td>\n      <td>Thriller, Sci-Fi</td>\n    </tr>\n    <tr>\n      <th>13726</th>\n      <td>Code Geass: Hangyaku no Lelouch</td>\n      <td>Code Geass: Lelouch of the Rebellion</td>\n      <td>8.79</td>\n      <td>9</td>\n      <td>30.0</td>\n      <td>Action, Military, Sci-Fi, Super Power, Drama, ...</td>\n    </tr>\n    <tr>\n      <th>4504</th>\n      <td>Naruto</td>\n      <td>Naruto</td>\n      <td>7.88</td>\n      <td>10</td>\n      <td>745.0</td>\n      <td>Action, Adventure, Comedy, Super Power, Martia...</td>\n    </tr>\n    <tr>\n      <th>6487</th>\n      <td>No Game No Life</td>\n      <td>No Game, No Life</td>\n      <td>8.41</td>\n      <td>11</td>\n      <td>162.0</td>\n      <td>Game, Adventure, Comedy, Supernatural, Ecchi, ...</td>\n    </tr>\n    <tr>\n      <th>9176</th>\n      <td>Mirai Nikki (TV)</td>\n      <td>The Future Diary</td>\n      <td>7.89</td>\n      <td>12</td>\n      <td>721.0</td>\n      <td>Action, Psychological, Supernatural, Thriller,...</td>\n    </tr>\n    <tr>\n      <th>19</th>\n      <td>Toradora!</td>\n      <td>Toradora!</td>\n      <td>8.39</td>\n      <td>13</td>\n      <td>174.0</td>\n      <td>Slice of Life, Comedy, Romance, School</td>\n    </tr>\n    <tr>\n      <th>5437</th>\n      <td>Ao no Exorcist</td>\n      <td>Blue Exorcist</td>\n      <td>7.83</td>\n      <td>14</td>\n      <td>823.0</td>\n      <td>Action, Demons, Fantasy, Shounen, Supernatural</td>\n    </tr>\n    <tr>\n      <th>6323</th>\n      <td>Noragami</td>\n      <td>Noragami: Stray God</td>\n      <td>8.15</td>\n      <td>15</td>\n      <td>377.0</td>\n      <td>Action, Adventure, Comedy, Supernatural, Shounen</td>\n    </tr>\n    <tr>\n      <th>8736</th>\n      <td>Elfen Lied</td>\n      <td>Elfen Lied</td>\n      <td>7.75</td>\n      <td>16</td>\n      <td>982.0</td>\n      <td>Action, Horror, Psychological, Supernatural, D...</td>\n    </tr>\n    <tr>\n      <th>5230</th>\n      <td>Sword Art Online II</td>\n      <td>Sword Art Online II</td>\n      <td>7.20</td>\n      <td>17</td>\n      <td>2827.0</td>\n      <td>Action, Game, Adventure, Romance, Fantasy</td>\n    </tr>\n    <tr>\n      <th>14</th>\n      <td>Bleach</td>\n      <td>Bleach</td>\n      <td>7.90</td>\n      <td>18</td>\n      <td>693.0</td>\n      <td>Action, Adventure, Comedy, Super Power, Supern...</td>\n    </tr>\n    <tr>\n      <th>191</th>\n      <td>Fairy Tail</td>\n      <td>Fairy Tail</td>\n      <td>8.08</td>\n      <td>19</td>\n      <td>452.0</td>\n      <td>Action, Adventure, Comedy, Magic, Fantasy, Sho...</td>\n    </tr>\n    <tr>\n      <th>17</th>\n      <td>Naruto: Shippuuden</td>\n      <td>Naruto: Shippuden</td>\n      <td>8.18</td>\n      <td>20</td>\n      <td>337.0</td>\n      <td>Action, Adventure, Comedy, Super Power, Martia...</td>\n    </tr>\n  </tbody>\n</table>\n</div>"
     },
     "metadata": {},
     "execution_count": 4
    }
   ],
   "source": [
    "\n",
    "# remove horny movies\n",
    "clean_list = anime[~anime.genre.str.contains('Hentai', na=False)]\n",
    "# Now, let's see which ones are the most popular\n",
    "clean_list.sort_values('popularity').head(20)\n"
   ]
  },
  {
   "cell_type": "code",
   "execution_count": 6,
   "metadata": {},
   "outputs": [
    {
     "output_type": "execute_result",
     "data": {
      "text/plain": [
       "                                                   title  \\\n",
       "8459                                        Boku no Pico   \n",
       "10922                                        Bible Black   \n",
       "8761                                       Pico to Chico   \n",
       "11459                                Pico x CoCo x Chico   \n",
       "13245                                             A Kite   \n",
       "3764                                          Oni Chichi   \n",
       "6803                                Sensitive Pornograph   \n",
       "2941   Sono Hanabira ni Kuchizuke wo: Anata to Koibit...   \n",
       "8639                 Eroge! H mo Game mo Kaihatsu Zanmai   \n",
       "9445                                            Euphoria   \n",
       "938                                  Princess Lover! OVA   \n",
       "260    Kanojo x Kanojo x Kanojo: Sanshimai to no Doki...   \n",
       "11170                                        Shoujo Sect   \n",
       "4916                                Oni Chichi: Re-birth   \n",
       "6773                                          Discipline   \n",
       "5359                    Green Green Thirteen: Erolutions   \n",
       "8475                                 Oni Chichi: Re-born   \n",
       "208                                          Mezzo Forte   \n",
       "3625                                  Mankitsu Happening   \n",
       "12702                                 Bible Black Gaiden   \n",
       "\n",
       "                        title_english  score  popularity  rank  \\\n",
       "8459                              NaN   4.99        1057   NaN   \n",
       "10922                             NaN   6.83        1811   NaN   \n",
       "8761                              NaN   5.04        1821   NaN   \n",
       "11459                             NaN   5.02        1902   NaN   \n",
       "13245                            Kite   6.66        1946   NaN   \n",
       "3764                              NaN   7.35        2021   NaN   \n",
       "6803                              NaN   6.99        2031   NaN   \n",
       "2941                              NaN   7.36        2061   NaN   \n",
       "8639                              NaN   7.70        2115   NaN   \n",
       "9445                              NaN   6.58        2538   NaN   \n",
       "938                               NaN   6.80        2539   NaN   \n",
       "260          Kanojo x Kanojo x Kanojo   7.53        2596   NaN   \n",
       "11170                     Shoujo Sect   6.83        2640   NaN   \n",
       "4916                              NaN   7.51        2658   NaN   \n",
       "6773   Discipline: The Hentai Academy   7.04        2682   NaN   \n",
       "5359                              NaN   6.22        2685   NaN   \n",
       "8475                              NaN   7.74        2713   NaN   \n",
       "208                               NaN   6.72        2820   NaN   \n",
       "3625                              NaN   7.88        2837   NaN   \n",
       "12702             Bible Black Origins   6.86        2853   NaN   \n",
       "\n",
       "                                      genre  \n",
       "8459                           Hentai, Yaoi  \n",
       "10922                                Hentai  \n",
       "8761                           Hentai, Yaoi  \n",
       "11459                          Hentai, Yaoi  \n",
       "13245         Action, Hentai, Police, Drama  \n",
       "3764                                 Hentai  \n",
       "6803   Comedy, Drama, Hentai, Romance, Yaoi  \n",
       "2941                   Hentai, School, Yuri  \n",
       "8639                                 Hentai  \n",
       "9445                                 Hentai  \n",
       "938                                  Hentai  \n",
       "260                           Harem, Hentai  \n",
       "11170         Comedy, Romance, Hentai, Yuri  \n",
       "4916                                 Hentai  \n",
       "6773                         Hentai, School  \n",
       "5359                Comedy, Romance, Hentai  \n",
       "8475                                 Hentai  \n",
       "208          Action, Comedy, Hentai, Sci-Fi  \n",
       "3625                                 Hentai  \n",
       "12702                  Hentai, Supernatural  "
      ],
      "text/html": "<div>\n<style scoped>\n    .dataframe tbody tr th:only-of-type {\n        vertical-align: middle;\n    }\n\n    .dataframe tbody tr th {\n        vertical-align: top;\n    }\n\n    .dataframe thead th {\n        text-align: right;\n    }\n</style>\n<table border=\"1\" class=\"dataframe\">\n  <thead>\n    <tr style=\"text-align: right;\">\n      <th></th>\n      <th>title</th>\n      <th>title_english</th>\n      <th>score</th>\n      <th>popularity</th>\n      <th>rank</th>\n      <th>genre</th>\n    </tr>\n  </thead>\n  <tbody>\n    <tr>\n      <th>8459</th>\n      <td>Boku no Pico</td>\n      <td>NaN</td>\n      <td>4.99</td>\n      <td>1057</td>\n      <td>NaN</td>\n      <td>Hentai, Yaoi</td>\n    </tr>\n    <tr>\n      <th>10922</th>\n      <td>Bible Black</td>\n      <td>NaN</td>\n      <td>6.83</td>\n      <td>1811</td>\n      <td>NaN</td>\n      <td>Hentai</td>\n    </tr>\n    <tr>\n      <th>8761</th>\n      <td>Pico to Chico</td>\n      <td>NaN</td>\n      <td>5.04</td>\n      <td>1821</td>\n      <td>NaN</td>\n      <td>Hentai, Yaoi</td>\n    </tr>\n    <tr>\n      <th>11459</th>\n      <td>Pico x CoCo x Chico</td>\n      <td>NaN</td>\n      <td>5.02</td>\n      <td>1902</td>\n      <td>NaN</td>\n      <td>Hentai, Yaoi</td>\n    </tr>\n    <tr>\n      <th>13245</th>\n      <td>A Kite</td>\n      <td>Kite</td>\n      <td>6.66</td>\n      <td>1946</td>\n      <td>NaN</td>\n      <td>Action, Hentai, Police, Drama</td>\n    </tr>\n    <tr>\n      <th>3764</th>\n      <td>Oni Chichi</td>\n      <td>NaN</td>\n      <td>7.35</td>\n      <td>2021</td>\n      <td>NaN</td>\n      <td>Hentai</td>\n    </tr>\n    <tr>\n      <th>6803</th>\n      <td>Sensitive Pornograph</td>\n      <td>NaN</td>\n      <td>6.99</td>\n      <td>2031</td>\n      <td>NaN</td>\n      <td>Comedy, Drama, Hentai, Romance, Yaoi</td>\n    </tr>\n    <tr>\n      <th>2941</th>\n      <td>Sono Hanabira ni Kuchizuke wo: Anata to Koibit...</td>\n      <td>NaN</td>\n      <td>7.36</td>\n      <td>2061</td>\n      <td>NaN</td>\n      <td>Hentai, School, Yuri</td>\n    </tr>\n    <tr>\n      <th>8639</th>\n      <td>Eroge! H mo Game mo Kaihatsu Zanmai</td>\n      <td>NaN</td>\n      <td>7.70</td>\n      <td>2115</td>\n      <td>NaN</td>\n      <td>Hentai</td>\n    </tr>\n    <tr>\n      <th>9445</th>\n      <td>Euphoria</td>\n      <td>NaN</td>\n      <td>6.58</td>\n      <td>2538</td>\n      <td>NaN</td>\n      <td>Hentai</td>\n    </tr>\n    <tr>\n      <th>938</th>\n      <td>Princess Lover! OVA</td>\n      <td>NaN</td>\n      <td>6.80</td>\n      <td>2539</td>\n      <td>NaN</td>\n      <td>Hentai</td>\n    </tr>\n    <tr>\n      <th>260</th>\n      <td>Kanojo x Kanojo x Kanojo: Sanshimai to no Doki...</td>\n      <td>Kanojo x Kanojo x Kanojo</td>\n      <td>7.53</td>\n      <td>2596</td>\n      <td>NaN</td>\n      <td>Harem, Hentai</td>\n    </tr>\n    <tr>\n      <th>11170</th>\n      <td>Shoujo Sect</td>\n      <td>Shoujo Sect</td>\n      <td>6.83</td>\n      <td>2640</td>\n      <td>NaN</td>\n      <td>Comedy, Romance, Hentai, Yuri</td>\n    </tr>\n    <tr>\n      <th>4916</th>\n      <td>Oni Chichi: Re-birth</td>\n      <td>NaN</td>\n      <td>7.51</td>\n      <td>2658</td>\n      <td>NaN</td>\n      <td>Hentai</td>\n    </tr>\n    <tr>\n      <th>6773</th>\n      <td>Discipline</td>\n      <td>Discipline: The Hentai Academy</td>\n      <td>7.04</td>\n      <td>2682</td>\n      <td>NaN</td>\n      <td>Hentai, School</td>\n    </tr>\n    <tr>\n      <th>5359</th>\n      <td>Green Green Thirteen: Erolutions</td>\n      <td>NaN</td>\n      <td>6.22</td>\n      <td>2685</td>\n      <td>NaN</td>\n      <td>Comedy, Romance, Hentai</td>\n    </tr>\n    <tr>\n      <th>8475</th>\n      <td>Oni Chichi: Re-born</td>\n      <td>NaN</td>\n      <td>7.74</td>\n      <td>2713</td>\n      <td>NaN</td>\n      <td>Hentai</td>\n    </tr>\n    <tr>\n      <th>208</th>\n      <td>Mezzo Forte</td>\n      <td>NaN</td>\n      <td>6.72</td>\n      <td>2820</td>\n      <td>NaN</td>\n      <td>Action, Comedy, Hentai, Sci-Fi</td>\n    </tr>\n    <tr>\n      <th>3625</th>\n      <td>Mankitsu Happening</td>\n      <td>NaN</td>\n      <td>7.88</td>\n      <td>2837</td>\n      <td>NaN</td>\n      <td>Hentai</td>\n    </tr>\n    <tr>\n      <th>12702</th>\n      <td>Bible Black Gaiden</td>\n      <td>Bible Black Origins</td>\n      <td>6.86</td>\n      <td>2853</td>\n      <td>NaN</td>\n      <td>Hentai, Supernatural</td>\n    </tr>\n  </tbody>\n</table>\n</div>"
     },
     "metadata": {},
     "execution_count": 6
    }
   ],
   "source": [
    "# Let's get dirty. what's the most popular hentai?\n",
    "dirty_list = anime[anime['genre'].str.contains('Hentai', na=False)]\n",
    "dirty_list.sort_values('popularity').head(20)"
   ]
  },
  {
   "cell_type": "code",
   "execution_count": null,
   "metadata": {},
   "outputs": [],
   "source": []
  }
 ],
 "metadata": {
  "kernelspec": {
   "name": "pipenv",
   "display_name": "Python 3.9.5 64-bit ('anime_python-NngzkPi4': pipenv)"
  }
 },
 "nbformat": 4,
 "nbformat_minor": 5
}